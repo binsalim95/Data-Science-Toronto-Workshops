{
 "cells": [
  {
   "cell_type": "markdown",
   "metadata": {},
   "source": [
    "Welcome to the Jupyter Notebook containing the review code for our first Advanced Workshop. This will have a/ll the important parts of the code we develop and relevant explanations. It also has some sources you can get some better explanations than mine."
   ]
  },
  {
   "cell_type": "code",
   "execution_count": 2,
   "metadata": {},
   "outputs": [],
   "source": [
    "# Imports for this workshop:\n",
    "%matplotlib inline\n",
    "import numpy as np\n",
    "from scipy import ndimage\n",
    "from PIL import Image\n",
    "from matplotlib.pyplot import imshow\n",
    "import os"
   ]
  },
  {
   "cell_type": "markdown",
   "metadata": {},
   "source": [
    "# Linear Classifers #\n",
    "\n",
    "   In this workshop we'll be taking a bottom up approach to Convolutional Neural Nets, starting with a basic example – the linear classifier. The linear classifier is a function that takes our input vector to our prediction quantities, which we can compare to see what we've predicted. It's called a linear classifier because the prediction matrix is linear:\n",
    "\n",
    "<center>$Wx^T = p$ </center>\n",
    "\n",
    "where $W$ is our weight matrix, $x^T$ is a column vector, and $p$ is our prediction. We might also use\n",
    "\n",
    "<br>\n",
    "<center>$Wx^T + b = p$ </center>\n",
    "\n",
    "where $b$ is called the bias (making our classifier affine) but we'll call it linear anyway. For image prediction, because there isn't a matrix that can multiply another matrix to get a vector, we need to unravel our image into a vector. We can do that with this code:"
   ]
  },
  {
   "cell_type": "code",
   "execution_count": 3,
   "metadata": {},
   "outputs": [
    {
     "data": {
      "text/plain": [
       "array([[1, 2, 3],\n",
       "       [4, 5, 6],\n",
       "       [7, 8, 9]])"
      ]
     },
     "execution_count": 3,
     "metadata": {},
     "output_type": "execute_result"
    }
   ],
   "source": [
    "image = np.array([[1,2,3],[4,5,6],[7,8,9]]) # Some arbitrary image matrix\n",
    "image"
   ]
  },
  {
   "cell_type": "code",
   "execution_count": 4,
   "metadata": {},
   "outputs": [
    {
     "data": {
      "text/plain": [
       "array([1, 2, 3, 4, 5, 6, 7, 8, 9])"
      ]
     },
     "execution_count": 4,
     "metadata": {},
     "output_type": "execute_result"
    }
   ],
   "source": [
    "fimage = image.flatten()\n",
    "fimage"
   ]
  },
  {
   "cell_type": "code",
   "execution_count": 5,
   "metadata": {},
   "outputs": [
    {
     "data": {
      "text/plain": [
       "array([[0.43597693, 0.08774387, 0.61858843, 0.69854032, 0.44922224,\n",
       "        0.49551985, 0.86731742, 0.85615986, 0.18641292],\n",
       "       [0.23813162, 0.9952018 , 0.78485486, 0.78924998, 0.04153802,\n",
       "        0.92858531, 0.52613748, 0.60629249, 0.3166069 ],\n",
       "       [0.56485564, 0.50237047, 0.52300527, 0.15454692, 0.53355925,\n",
       "        0.56355294, 0.49164918, 0.53387962, 0.08143612]])"
      ]
     },
     "execution_count": 5,
     "metadata": {},
     "output_type": "execute_result"
    }
   ],
   "source": [
    "classifier = np.random.rand(3,fimage.size) # some arbitrary classifier matrix, with 3 rows and 9 columns.\n",
    "classifier"
   ]
  },
  {
   "cell_type": "code",
   "execution_count": 6,
   "metadata": {},
   "outputs": [],
   "source": [
    "p = np.dot(classifier, fimage)"
   ]
  },
  {
   "cell_type": "markdown",
   "metadata": {},
   "source": [
    "which would be our prediction vector. We'd take the max of these as our prediction:"
   ]
  },
  {
   "cell_type": "code",
   "execution_count": 7,
   "metadata": {},
   "outputs": [
    {
     "data": {
      "text/plain": [
       "0"
      ]
     },
     "execution_count": 7,
     "metadata": {},
     "output_type": "execute_result"
    }
   ],
   "source": [
    "prediction = np.argmax(p)\n",
    "prediction"
   ]
  },
  {
   "cell_type": "markdown",
   "metadata": {},
   "source": [
    "Let's try this with a real example. This code loads in the first MNIST image, a picture of a handwritten 0, and flattens it."
   ]
  },
  {
   "cell_type": "code",
   "execution_count": 8,
   "metadata": {},
   "outputs": [],
   "source": [
    "im = np.asarray(Image.open('data/train/000001-num0.png')) / 255\n",
    "im_flat = im.flatten()"
   ]
  },
  {
   "cell_type": "markdown",
   "metadata": {},
   "source": [
    "Let's multiply it by a classifier (which is just a random matrix for now, since we haven't decided how to pick the weights of the classfier):"
   ]
  },
  {
   "cell_type": "code",
   "execution_count": 9,
   "metadata": {},
   "outputs": [
    {
     "data": {
      "text/plain": [
       "2"
      ]
     },
     "execution_count": 9,
     "metadata": {},
     "output_type": "execute_result"
    }
   ],
   "source": [
    "classifier = np.random.rand(10,im_flat.size) / im_flat.size\n",
    "prediction = np.dot(classifier, im_flat)\n",
    "number = np.argmax(prediction, axis=0)\n",
    "number"
   ]
  },
  {
   "cell_type": "markdown",
   "metadata": {},
   "source": [
    "Obviously, since the weights of our classifier matrix are random, every time we try this, we'll get a different prediction. Now, we figure out how to \"train\" the weights of the classifier matrix. The general procedure of learning is:\n",
    "\n",
    "<img src=\"pic/machinelearning.jpeg\" style=\"width: 500px;\">\n",
    "\n",
    "The loss function takes our prediction and the actual labels, called \"ground-truth\" labels, to a single value which represents how good our predictions are. Generally, our loss function will return zero if they are the same, and some large value if they are very different. What is in between these two extremes can be chosen according to our preferences during learning: we might want to penalize certain types of weights in our network more, or penalize certain types of predictions less if we think they are leading us in the right direction. \n",
    "\n",
    "In this workshop, we'll use the cross-entropy loss function. The specifics of why this is chosen are not important, just know that this loss function is generally used for categorization problems.\n",
    "\n",
    "Essentially, we are dealing with an optimization problem in which we must minimize the loss by improving the weights in our matrix. We can solve this optimization problem with several methods, but a common method used in machine learning is gradient descent, which is what we'll use later for our convolutional neural nets."
   ]
  },
  {
   "cell_type": "code",
   "execution_count": 10,
   "metadata": {},
   "outputs": [],
   "source": [
    "# Loss Functions\n",
    "def CCEntropy(prediction, groundtruth):\n",
    "    return(-np.sum(groundtruth * np.log(prediction)))\n",
    "\n",
    "def L2Norm(prediction, groundtruth):\n",
    "    return(np.sum(np.sqrt(np.square(prediction) + np.square(groundtruth))))\n",
    "\n",
    "def softmax(prediction):\n",
    "    return(np.exp(prediction) / sum(np.exp(prediction)))"
   ]
  },
  {
   "cell_type": "code",
   "execution_count": 16,
   "metadata": {},
   "outputs": [
    {
     "name": "stdout",
     "output_type": "stream",
     "text": [
      "Data Loaded\n"
     ]
    }
   ],
   "source": [
    "# Data Loader\n",
    "def data():\n",
    "    images = []\n",
    "    groundtruths = []\n",
    "    for file in os.listdir(\"data/train/\"):\n",
    "        n = int(file[10])\n",
    "        images.append(np.asarray(Image.open(\"data/train/\" + file)) / 255)\n",
    "        groundtruths.append(np.asarray((n)*[0] + [1] + (1 - n)*[0])) #literally do not ever do this\n",
    "    print(\"Data Loaded\")\n",
    "    return(images, groundtruths)\n",
    "\n",
    "images, groundtruths = data()\n"
   ]
  },
  {
   "cell_type": "code",
   "execution_count": 18,
   "metadata": {},
   "outputs": [
    {
     "data": {
      "text/plain": [
       "<matplotlib.image.AxesImage at 0xb180de940>"
      ]
     },
     "execution_count": 18,
     "metadata": {},
     "output_type": "execute_result"
    },
    {
     "data": {
      "image/png": "[encoded data removed]",
      "text/plain": [
       "<Figure size 432x288 with 1 Axes>"
      ]
     },
     "metadata": {
      "needs_background": "light"
     },
     "output_type": "display_data"
    }
   ],
   "source": [
    "imshow(images[3])"
   ]
  },
  {
   "cell_type": "code",
   "execution_count": null,
   "metadata": {
    "scrolled": false
   },
   "outputs": [],
   "source": [
    "## Training our linear classifier\n",
    "# Honestly, this thing is impossible to get to work. \n",
    "# I think my gradient formula is bad, but I've tried everything and either \n",
    "# my gradients explode or they go to zero real quick. \n",
    "# Maybe you can give this a try. \n",
    "# But this code gives an idea of the general training algorithm we would use. \n",
    "\n",
    "epoch_loss = []\n",
    "epochs = 10\n",
    "learningrate = 0.1\n",
    "\n",
    "W = (np.random.rand(2,28 * 28) - 0.5) * np.sqrt(6 / (28 * 28 + 2))\n",
    "b = np.zeros(2)\n",
    "\n",
    "for epoch in range(epochs):\n",
    "    for i, image in enumerate(images[1:2]):\n",
    "        \n",
    "        groundtruth = groundtruths[i]\n",
    "        \n",
    "        # Make prediction\n",
    "        prediction = np.dot(W, image.flatten()) + b\n",
    "        prediction = softmax(prediction)\n",
    "        \n",
    "        # Calculate Gradients\n",
    "        dy = 2 * (prediction - groundtruth)\n",
    "        dW = np.outer(dy, image.flatten())\n",
    "\n",
    "        # Update Predictor\n",
    "        W = W - learningrate * dW \n",
    "        b = b - learningrate * dy\n",
    "        #W = np.clip(W,-np.sqrt(6 / (28 * 28 + 2)),np.sqrt(6 / (28 * 28 + 2)))\n",
    "        \n",
    "        print(W)\n",
    "        print(b)"
   ]
  },
  {
   "cell_type": "markdown",
   "metadata": {},
   "source": [
    "# Convolutional Neural Nets\n",
    "\n",
    "Here we're going to switch to Pytorch, a machine learning framework. "
   ]
  },
  {
   "cell_type": "code",
   "execution_count": 4,
   "metadata": {},
   "outputs": [],
   "source": [
    "import torch\n",
    "import torchvision\n",
    "\n",
    "\n",
    "from torch.autograd import Variable\n",
    "import torch.nn.functional as F\n",
    "\n",
    "class CNN(torch.nn.Module):\n",
    "    def __init__(self):\n",
    "        super(CNN, self).__init__()\n",
    "        self.conv1 = torch.nn.Conv2d(1, 3, kernel_size=3, stride=1, padding=1)\n",
    "        self.conv2 = torch.nn.Conv2d(3, 10, kernel_size=3, stride=1, padding=1)\n",
    "        self.pool = torch.nn.MaxPool2d(kernel_size=2, stride=2, padding=0)\n",
    "        self.fc1 = torch.nn.Linear(10 * 14 * 14, 64)\n",
    "        self.fc2 = torch.nn.Linear(64, 10)\n",
    "        \n",
    "    def forward(self, x):\n",
    "        x = x.double()\n",
    "        x = F.relu(self.conv2(F.relu(self.conv1(x)))) #convolve\n",
    "        x = self.pool(x) #pool\n",
    "        x = x.view(-1, 10 * 14 *14) #reshape\n",
    "        x = self.fc2(F.relu(self.fc1(x))) #classifier\n",
    "        return(x)"
   ]
  },
  {
   "cell_type": "code",
   "execution_count": 5,
   "metadata": {},
   "outputs": [
    {
     "name": "stdout",
     "output_type": "stream",
     "text": [
      "Data Loaded\n"
     ]
    }
   ],
   "source": [
    "def data():\n",
    "    images = []\n",
    "    groundtruths = []\n",
    "    for file in os.listdir(\"data/train/\"):\n",
    "        n = int(file[10])\n",
    "        images.append(np.asarray(Image.open(\"data/train/\" + file)) / 255)\n",
    "        groundtruths.append(np.asarray((n)*[0] + [1] + (9 - n)*[0])) #literally do not ever do this\n",
    "    print(\"Data Loaded\")\n",
    "    return(images, groundtruths)\n",
    "images, groundtruths = data()"
   ]
  },
  {
   "cell_type": "code",
   "execution_count": null,
   "metadata": {
    "scrolled": true
   },
   "outputs": [
    {
     "name": "stdout",
     "output_type": "stream",
     "text": [
      "0 / 60000\n",
      "1000 / 60000\n",
      "2000 / 60000\n",
      "3000 / 60000\n",
      "4000 / 60000\n",
      "5000 / 60000\n",
      "6000 / 60000\n",
      "7000 / 60000\n",
      "8000 / 60000\n",
      "9000 / 60000\n",
      "10000 / 60000\n",
      "11000 / 60000\n",
      "12000 / 60000\n",
      "13000 / 60000\n",
      "14000 / 60000\n",
      "15000 / 60000\n",
      "16000 / 60000\n",
      "17000 / 60000\n",
      "18000 / 60000\n",
      "19000 / 60000\n",
      "20000 / 60000\n",
      "21000 / 60000\n",
      "22000 / 60000\n",
      "23000 / 60000\n",
      "24000 / 60000\n",
      "25000 / 60000\n",
      "26000 / 60000\n",
      "27000 / 60000\n",
      "28000 / 60000\n",
      "29000 / 60000\n",
      "30000 / 60000\n",
      "31000 / 60000\n",
      "32000 / 60000\n",
      "33000 / 60000\n",
      "34000 / 60000\n",
      "35000 / 60000\n",
      "36000 / 60000\n",
      "37000 / 60000\n",
      "38000 / 60000\n",
      "39000 / 60000\n",
      "40000 / 60000\n",
      "41000 / 60000\n",
      "42000 / 60000\n",
      "43000 / 60000\n",
      "44000 / 60000\n",
      "45000 / 60000\n",
      "46000 / 60000\n",
      "47000 / 60000\n",
      "48000 / 60000\n",
      "49000 / 60000\n",
      "50000 / 60000\n",
      "51000 / 60000\n",
      "52000 / 60000\n",
      "53000 / 60000\n",
      "54000 / 60000\n",
      "55000 / 60000\n",
      "56000 / 60000\n"
     ]
    }
   ],
   "source": [
    "learning_rate = 0.01\n",
    "n_epochs = 3\n",
    "net = CNN().double()\n",
    "loss = torch.nn.MSELoss()\n",
    "optimizer = torch.optim.Adam(net.parameters(), lr=learning_rate)\n",
    "for epoch in range(n_epochs):        \n",
    "        for i in range(len(images)):\n",
    "            inputs, labels = Variable(torch.from_numpy(images[i])), Variable(torch.from_numpy(groundtruths[i]))\n",
    "            optimizer.zero_grad()\n",
    "            outputs = net(inputs.unsqueeze(0).unsqueeze(0))\n",
    "            loss_size = loss(outputs, labels.unsqueeze(0).double())\n",
    "            loss_size.backward()\n",
    "            if i % 1000 == 0:\n",
    "                print(str(i) + \" / \" + str(len(images)))\n",
    "            optimizer.step()"
   ]
  },
  {
   "cell_type": "code",
   "execution_count": null,
   "metadata": {},
   "outputs": [],
   "source": [
    "optimizer.zero_grad()\n",
    "prediction = net(torch.from_numpy(images[5]).unsqueeze(0).unsqueeze(0).double())\n",
    "print(prediction)"
   ]
  },
  {
   "cell_type": "code",
   "execution_count": 11,
   "metadata": {},
   "outputs": [
    {
     "name": "stdout",
     "output_type": "stream",
     "text": [
      "[0 0 0 0 0 0 0 1 0 0]\n"
     ]
    },
    {
     "data": {
      "image/png": "[encoded data removed]",
      "text/plain": [
       "<Figure size 432x288 with 1 Axes>"
      ]
     },
     "metadata": {
      "needs_background": "light"
     },
     "output_type": "display_data"
    }
   ],
   "source": [
    "imshow(images[10])\n",
    "print(groundtruths[10])"
   ]
  },
  {
   "cell_type": "code",
   "execution_count": null,
   "metadata": {},
   "outputs": [],
   "source": []
  }
 ],
 "metadata": {
  "kernelspec": {
   "display_name": "Python 3",
   "language": "python",
   "name": "python3"
  },
  "language_info": {
   "codemirror_mode": {
    "name": "ipython",
    "version": 3
   },
   "file_extension": ".py",
   "mimetype": "text/x-python",
   "name": "python",
   "nbconvert_exporter": "python",
   "pygments_lexer": "ipython3",
   "version": "3.6.7"
  }
 },
 "nbformat": 4,
 "nbformat_minor": 2
}
